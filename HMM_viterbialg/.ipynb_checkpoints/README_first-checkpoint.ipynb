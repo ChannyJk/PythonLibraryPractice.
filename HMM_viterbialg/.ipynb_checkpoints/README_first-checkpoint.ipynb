{
 "cells": [
  {
   "cell_type": "markdown",
   "id": "948ce163",
   "metadata": {},
   "source": [
    "# Hidden Markov Model \n",
    "\n",
    "###  DNA/RNA sequence, Polypeptide Sequence 등에 마치 unobservable state가 있다고 가정하고 이러한 Hidden State가 observed sequence로 나타난다는 개념. 즉 조사하고 싶은 Observed Sequence의 Hidden State(State Path, 혹은 Hidden Markov chain 과 동일한 단어)를 풀어내거나 혹은 완성한 Model에 근거하여 이미 답을 알고 있는 Sequence를 얼마나 잘 예측하는 지 평가할 수 있음.\n",
    "\n",
    "### Observed Sequence에서 state path를 구하는 과정을 Decoding이라고 하며 주로 Viterbi Algorithm을 사용함.  완성된 Model을 바탕으로 그 정확성을 evaluation하는 데에는 Forward Algorithm을 사용함. \n",
    "\n",
    "### 첨부한 .py 파일은 Decoding 과정에서 Viterbi Algorithm을 사용하여 State Path를 모르는 임의의 Polypeptide Sequence의 State Path를 찾는 프로그램이며, State는 'T'ransmembrane , 'S'oluble state 2가지가 가능함. 즉 Membrane Protein의 transmembrane region과 그외 region을 추론할 수 있는 프로그램임. \n",
    "\n",
    "### 동봉된 .txt 파일은 학과 전공수업 '생명정보학' (이인석 교수님) 시간에 과제로 제공받았으며 emissionPcalc.py 와 transitionPcalc.py 는 수업에서 제공받은 스크립트를 참고하였고, decode_viterbi_ALG.py 는 참고 없이 직접 제작한 스크립트임.  \n"
   ]
  },
  {
   "cell_type": "markdown",
   "id": "b2bf7c17",
   "metadata": {},
   "source": [
    "![title](HMMtopo.png)"
   ]
  },
  {
   "cell_type": "markdown",
   "id": "7e739a0a",
   "metadata": {},
   "source": [
    "###  위 figure에서 a11, a12, a13 ,,, 은 transition Possibiltiy로써 state간 전환에 대한 확률을 지칭. 1,2,3,4는 각각 state 를 의미. \n",
    "\n",
    "### 각 state에서 a, b, c, d 와 같은 sequence가 가능하다고 생각할 때, state 1에서의 a, b, c, d가 나타나는 빈도를  Emission Probability라고 함.  "
   ]
  },
  {
   "cell_type": "markdown",
   "id": "f7c48f7c",
   "metadata": {},
   "source": [
    "![title](viterbialgorithm.png)"
   ]
  },
  {
   "cell_type": "markdown",
   "id": "d380a591",
   "metadata": {},
   "source": [
    "### 이에 기반하여 v(state,pos), a(XY), e(state,obs) 값을 구성하고, v(begin,0) 을 1로 설정. \n",
    "### v(state, pos) 값은 위 figure와 같이 e(state,obs)max(v(state,pos)a(XY) ...)  으로 계산. \n",
    "### 각 pos 별 v(state,pos)값을 비교하여 가장 높은 값을 해당 observed sequence를 가장 잘 설명하는 path라고 결정. 이를 계속 반복하여 마지막 v 값이 가장 높은 path를 최종적으로 hidden markov chain이라고 생각하게 된다. "
   ]
  },
  {
   "cell_type": "markdown",
   "id": "faebb184",
   "metadata": {},
   "source": [
    "![title](cmdplay.png)"
   ]
  },
  {
   "cell_type": "markdown",
   "id": "f758a933",
   "metadata": {},
   "source": [
    "### 위와 같이 명령 프롬프트 창에서 실행. 결과값은 viterbi_statepath.txt 파일로 return 됨. "
   ]
  }
 ],
 "metadata": {
  "kernelspec": {
   "display_name": "Python 3 (ipykernel)",
   "language": "python",
   "name": "python3"
  },
  "language_info": {
   "codemirror_mode": {
    "name": "ipython",
    "version": 3
   },
   "file_extension": ".py",
   "mimetype": "text/x-python",
   "name": "python",
   "nbconvert_exporter": "python",
   "pygments_lexer": "ipython3",
   "version": "3.9.12"
  }
 },
 "nbformat": 4,
 "nbformat_minor": 5
}
